{
 "cells": [
  {
   "cell_type": "markdown",
   "id": "8e2491fb-3301-4c68-a3ca-649bb88e4160",
   "metadata": {},
   "source": [
    "### Setup"
   ]
  },
  {
   "cell_type": "code",
   "execution_count": 1,
   "id": "ad598979-d080-43bb-bcc0-4e69e0db17e4",
   "metadata": {
    "tags": []
   },
   "outputs": [],
   "source": [
    "// import dependencies\n",
    "\n",
    "var moment = require('moment')\n",
    "var { constants } = require('../utils')\n",
    "var { advanceTimeAndBlock } = require('../utils/evm')\n",
    "var { evm, common, contracts } = require('../utils');\n",
    "var { toUnit } = require('../utils/bn')\n",
    "var { getLatestBlockTimestamp, getBlockTimestamp } = require('../utils/evm')\n",
    "var { next, clear, bnToNumber } = require('../utils/jupyter')\n",
    "var { Notebook } = require('../utils/notebook')\n",
    "var { ethers } = require('hardhat')\n",
    "var { BigNumber } = require('ethers')\n",
    "var { smock } = require('@defi-wonderland/smock')\n",
    "\n",
    "var $ = new Notebook();\n",
    "\n",
    "clear();"
   ]
  },
  {
   "cell_type": "code",
   "execution_count": 2,
   "id": "d42a7ee8-0eea-4c47-983e-ddf5a9cc9bf6",
   "metadata": {},
   "outputs": [],
   "source": [
    "// setup tools and contracts\n",
    "\n",
    "next(async () => {\n",
    "    await $.setup(constants.FORK_BLOCK_NUMBER);\n",
    "    \n",
    "    provider = await $.impersonate(constants.RICH_DAI_ADDRESS);\n",
    "    \n",
    "    // contract artifacts\n",
    "    ls = await $.fetch('LongShort', constants.LONG_SHORT_ADDRESS)\n",
    "    synthF3Long = await $.fetch('SyntheticToken', constants.SYNTHETIC_TOKEN_ADDRESS_F3_LONG)\n",
    "    synthF3Short = await $.fetch('SyntheticToken',constants.SYNTHETIC_TOKEN_ADDRESS_F3_SHORT)\n",
    "    ym = await $.fetch('YieldManagerAave', constants.YIELD_MANAGER_ADDRESS)\n",
    "    oracleManager = await $.fetch('OracleManagerFlippening_V0', constants.ORACLE_MANAGER_ADDRESS_F3)\n",
    "    alphaFLT = await $.fetch('AlphaTestFLT',constants.ALPHA_FLT_ADDRESS)\n",
    "    treasury = await $.fetch('TreasuryAlpha',constants.TREASURY_ALPHA_ADDRESS)\n",
    "    \n",
    "    dai = await $.fetch('ERC20', constants.DAI_ADDRESS )\n",
    "    \n",
    "    // fake contracts\n",
    "    oracleManagerFake = await smock.fake('OracleManagerFlippening_V0');\n",
    "});"
   ]
  },
  {
   "cell_type": "code",
   "execution_count": 3,
   "id": "6ac9fa31-4a61-488c-8e87-6ddbd2a55f4a",
   "metadata": {},
   "outputs": [],
   "source": [
    "//Updating the address of the oracleManager manager to the fake oracleManager contract\n",
    "next(async()=>{\n",
    "    // initialize a value so it doesn't return 0\n",
    "    ORACLE_BASE = await oracleManager.getLatestPrice()\n",
    "    oracleManagerFake.updatePrice.returns(ORACLE_BASE)\n",
    "\n",
    "    ls.connect(await $.impersonate('0xcfcCB5e6b3882b7795eb1B1A9f18831A842d4eE0')).updateMarketOracle(1,oracleManagerFake.address)    \n",
    "})"
   ]
  },
  {
   "cell_type": "code",
   "execution_count": 4,
   "id": "2ed16891-f1e2-40ae-9062-7dc0efae60b2",
   "metadata": {
    "tags": []
   },
   "outputs": [],
   "source": [
    "//Mint long next price for user in F3 market\n",
    "next(async()=>{\n",
    "    DEPOSIT = '1000000000000000000000000' // 100K DAI\n",
    "    \n",
    "    await dai.connect(provider).approve(ls.address, DEPOSIT)\n",
    "    await ls.connect(provider).mintLongNextPrice(await synthF3Long.marketIndex(), DEPOSIT)\n",
    "})"
   ]
  },
  {
   "cell_type": "code",
   "execution_count": 5,
   "id": "77b2b589-e254-441c-acda-98496f4a7104",
   "metadata": {},
   "outputs": [],
   "source": [
    "// charts configuration\n",
    "\n",
    "next(async() =>{\n",
    "    await $.resetRecording()\n",
    "    $.resetTraces()\n",
    "\n",
    "    $.setPeriodTrace(432000)\n",
    "    \n",
    "    $.addViewTrace(synthF3Long, 'totalSupply', [], 'synthF3Long totalSupply')\n",
    "    $.addViewTrace(alphaFLT, 'totalSupply', [], 'alphaFLT totalSupply')\n",
    "    $.addViewTrace(ls, 'marketSideValueInPaymentToken', [1,true], 'marketSideValueInPaymentToken')\n",
    "})"
   ]
  },
  {
   "cell_type": "code",
   "execution_count": 6,
   "id": "c8b7b3f1-1a01-4180-9444-192f3a463faa",
   "metadata": {},
   "outputs": [
    {
     "data": {
      "text/html": [
       "<div class='plotly-plot'><div id='notebook-plot-1636659143440'></div><script>function plot(){Plotly.plot('notebook-plot-1636659143440',[{\"x\":[\"2021-10-09 01:13:44\",\"2021-10-09 01:14:26\"],\"y\":[242.02,242.02],\"name\":\"alphaFLT totalSupply\",\"line\":{\"width\":1}},{\"x\":[\"2021-10-09 01:13:44\",\"2021-10-09 01:14:26\"],\"y\":[116498.17,1204729.02],\"name\":\"marketSideValueInPaymentToken\",\"line\":{\"width\":1}},{\"x\":[],\"y\":[],\"name\":\"Period\",\"mode\":\"markers\",\"marker\":{\"symbol\":\"line-ns-open\",\"size\":12,\"color\":\"rgb(0, 0, 0)\"}},{\"x\":[\"2021-10-09 01:13:44\",\"2021-10-09 01:14:26\"],\"y\":[129734.3,763422.2],\"name\":\"synthF3Long totalSupply\",\"line\":{\"width\":1}}],{});}if(window.Plotly){plot();}else if(!window.require){var head = document.head || document.getElementsByTagName('head')[0];var s = document.createElement('script');s.src = 'https://cdn.plot.ly/plotly-latest.min.js';s.type = 'text/javascript';s.async = false;s.onreadystatechange = s.onload = plot;head.appendChild(s);}else{require(['/notebooks/node_modules/plotly-notebook-js/build/plotly.min.js'], function(Plotly){window.Plotly = Plotly;plot();});}</script></div>"
      ]
     },
     "execution_count": 6,
     "metadata": {},
     "output_type": "execute_result"
    }
   ],
   "source": [
    "//Trigger a system state update\n",
    "next(async()=>{\n",
    "    await $.recordViews()\n",
    "    //Faking a change in the oracle return\n",
    "    oracleManagerFake.updatePrice.returns(ORACLE_BASE + 10000002)\n",
    "    //Forcing an oracle price update for next price execution to go through\n",
    "    await ls.connect(provider).updateSystemState(1)\n",
    "    \n",
    "    //Running next price execution for the user\n",
    "    await ls.executeOutstandingNextPriceSettlementsUser(constants.RICH_DAI_ADDRESS, 1)\n",
    "    \n",
    "    await $.recordViews()\n",
    "    \n",
    "    await $.draw()\n",
    "})"
   ]
  },
  {
   "cell_type": "code",
   "execution_count": null,
   "id": "d17898c6-864e-4f56-ba19-97c12ded127d",
   "metadata": {},
   "outputs": [],
   "source": []
  }
 ],
 "metadata": {
  "kernelspec": {
   "display_name": "Javascript (Node.js)",
   "language": "javascript",
   "name": "javascript"
  },
  "language_info": {
   "file_extension": ".js",
   "mimetype": "application/javascript",
   "name": "javascript",
   "version": "17.0.1"
  }
 },
 "nbformat": 4,
 "nbformat_minor": 5
}
