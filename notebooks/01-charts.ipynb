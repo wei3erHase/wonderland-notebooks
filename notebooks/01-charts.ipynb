{
 "cells": [
  {
   "cell_type": "markdown",
   "id": "4cb16df2-82ab-468e-b258-2894bed562f3",
   "metadata": {},
   "source": [
    "### Setup\n",
    "Run first `00-setup.ipynb` and select its kernel"
   ]
  },
  {
   "cell_type": "code",
   "execution_count": 3,
   "id": "c2e458af-c671-4b68-926f-68f35d46cefd",
   "metadata": {},
   "outputs": [
    {
     "ename": "ReferenceError",
     "evalue": "next is not defined",
     "execution_count": 3,
     "output_type": "error",
     "traceback": [
      "evalmachine.<anonymous>:1",
      "next(async()=>{",
      "^",
      "",
      "ReferenceError: next is not defined",
      "    at evalmachine.<anonymous>:1:1",
      "    at Script.runInThisContext (node:vm:129:12)",
      "    at Object.runInThisContext (node:vm:305:38)",
      "    at run ([eval]:1054:15)",
      "    at onRunRequest ([eval]:888:18)",
      "    at onMessage ([eval]:848:13)",
      "    at process.emit (node:events:390:28)",
      "    at emit (node:internal/child_process:917:12)",
      "    at processTicksAndRejections (node:internal/process/task_queues:84:21)"
     ]
    }
   ],
   "source": [
    "next(async()=>{\n",
    "    [ethProvider] = await ethers.getSigners()\n",
    "    await ethProvider.sendTransaction({to:provider._address, value:toUnit(100)})\n",
    "})"
   ]
  },
  {
   "cell_type": "code",
   "execution_count": 4,
   "id": "3b8b8619-e3ba-4447-8a41-b5eb7359ce48",
   "metadata": {
    "tags": []
   },
   "outputs": [
    {
     "ename": "ReferenceError",
     "evalue": "next is not defined",
     "execution_count": 4,
     "output_type": "error",
     "traceback": [
      "evalmachine.<anonymous>:3",
      "next(async() =>{",
      "^",
      "",
      "ReferenceError: next is not defined",
      "    at evalmachine.<anonymous>:3:1",
      "    at Script.runInThisContext (node:vm:129:12)",
      "    at Object.runInThisContext (node:vm:305:38)",
      "    at run ([eval]:1054:15)",
      "    at onRunRequest ([eval]:888:18)",
      "    at onMessage ([eval]:848:13)",
      "    at process.emit (node:events:390:28)",
      "    at emit (node:internal/child_process:917:12)",
      "    at processTicksAndRejections (node:internal/process/task_queues:84:21)"
     ]
    }
   ],
   "source": [
    "// charts configuration\n",
    "\n",
    "next(async() =>{\n",
    "    await $.resetRecording()\n",
    "    $.resetTraces()\n",
    "\n",
    "    $.setPeriodTrace(432000)\n",
    "    \n",
    "    $.addViewTrace(synthF3Long, 'totalSupply', [])\n",
    "//     $.addViewTrace(synthF3Short, 'totalSupply', [])\n",
    "\n",
    "//     $.addEventTrace(dai.web3, 'Transfer')    \n",
    "})"
   ]
  },
  {
   "cell_type": "code",
   "execution_count": 15,
   "id": "e7b57ec7-fea3-44ea-9cf8-413508b98266",
   "metadata": {},
   "outputs": [
    {
     "data": {
      "text/html": [
       "<div class='plotly-plot'><div id='notebook-plot-1634822731538'></div><script>function plot(){Plotly.plot('notebook-plot-1634822731538',[{\"x\":[\"2021-10-15 01:00:00\",\"2021-10-20 01:00:00\",\"2021-10-25 01:00:00\"],\"y\":[0,0,0],\"name\":\"Period\",\"mode\":\"markers\",\"marker\":{\"symbol\":\"line-ns-open\",\"size\":12,\"color\":\"rgb(0, 0, 0)\"}},{\"x\":[\"2021-10-13 00:14:06\",\"2021-10-13 04:14:28\",\"2021-10-13 08:14:28\",\"2021-10-13 12:14:28\",\"2021-10-13 16:14:28\",\"2021-10-13 20:14:28\",\"2021-10-14 00:14:28\",\"2021-10-14 04:14:28\",\"2021-10-14 08:14:28\",\"2021-10-14 12:14:28\",\"2021-10-14 16:14:28\",\"2021-10-14 20:14:28\",\"2021-10-15 00:14:28\",\"2021-10-15 04:14:28\",\"2021-10-15 08:14:28\",\"2021-10-15 12:14:28\",\"2021-10-15 16:14:28\",\"2021-10-15 20:14:28\",\"2021-10-16 00:14:28\",\"2021-10-16 04:14:28\",\"2021-10-16 08:14:28\",\"2021-10-16 12:14:28\",\"2021-10-16 16:14:28\",\"2021-10-16 20:14:28\",\"2021-10-17 00:14:28\",\"2021-10-17 00:14:28\",\"2021-10-17 04:14:35\",\"2021-10-17 08:14:35\",\"2021-10-17 12:14:35\",\"2021-10-17 16:14:35\",\"2021-10-17 20:14:35\",\"2021-10-18 00:14:35\",\"2021-10-18 04:14:35\",\"2021-10-18 08:14:35\",\"2021-10-18 12:14:35\",\"2021-10-18 16:14:35\",\"2021-10-18 20:14:35\",\"2021-10-19 00:14:35\",\"2021-10-19 04:14:35\",\"2021-10-19 08:14:35\",\"2021-10-19 12:14:35\",\"2021-10-19 16:14:35\",\"2021-10-19 20:14:35\",\"2021-10-20 00:14:35\",\"2021-10-20 04:14:35\",\"2021-10-20 08:14:35\",\"2021-10-20 12:14:35\",\"2021-10-20 16:14:35\",\"2021-10-20 20:14:35\",\"2021-10-21 00:14:35\",\"2021-10-21 04:14:35\",\"2021-10-21 08:14:35\",\"2021-10-21 12:14:35\",\"2021-10-21 16:14:35\",\"2021-10-21 20:14:35\",\"2021-10-22 00:14:35\",\"2021-10-22 04:14:35\",\"2021-10-22 08:14:35\",\"2021-10-22 12:14:35\",\"2021-10-22 16:14:35\",\"2021-10-22 20:14:35\",\"2021-10-23 00:14:35\",\"2021-10-23 04:14:35\",\"2021-10-23 08:14:35\",\"2021-10-23 12:14:35\",\"2021-10-23 16:14:35\",\"2021-10-23 20:14:35\",\"2021-10-24 00:14:35\",\"2021-10-24 04:14:35\",\"2021-10-24 08:14:35\",\"2021-10-24 12:14:35\",\"2021-10-24 16:14:35\",\"2021-10-24 20:14:35\",\"2021-10-25 00:14:35\",\"2021-10-25 04:14:35\",\"2021-10-25 08:14:35\",\"2021-10-25 12:14:35\",\"2021-10-25 16:14:35\",\"2021-10-25 20:14:35\",\"2021-10-26 00:14:35\",\"2021-10-26 04:14:35\",\"2021-10-26 08:14:35\",\"2021-10-26 12:14:35\",\"2021-10-26 16:14:35\",\"2021-10-26 20:14:35\",\"2021-10-27 00:14:35\"],\"y\":[129734.3,129734.3,129734.3,129734.3,129734.3,129734.3,129734.3,129734.3,129734.3,129734.3,129734.3,129734.3,129734.3,129734.3,129734.3,129734.3,129734.3,129734.3,129734.3,129734.3,129734.3,129734.3,129734.3,129734.3,129734.3,129734.3,129734.3,129734.3,129734.3,129734.3,129734.3,129734.3,129734.3,129734.3,129734.3,129734.3,129734.3,129734.3,129734.3,129734.3,129734.3,129734.3,129734.3,129734.3,129734.3,129734.3,129734.3,129734.3,129734.3,129734.3,129734.3,129734.3,129734.3,129734.3,129734.3,129734.3,129734.3,129734.3,129734.3,129734.3,129734.3,129734.3,129734.3,129734.3,129734.3,129734.3,129734.3,129734.3,129734.3,129734.3,129734.3,129734.3,129734.3,129734.3,129734.3,129734.3,129734.3,129734.3,129734.3,129734.3,129734.3,129734.3,129734.3,129734.3,129734.3,129734.3],\"name\":\"totalSupply\",\"line\":{\"width\":1}}],{});}if(window.Plotly){plot();}else if(!window.require){var head = document.head || document.getElementsByTagName('head')[0];var s = document.createElement('script');s.src = 'https://cdn.plot.ly/plotly-latest.min.js';s.type = 'text/javascript';s.async = false;s.onreadystatechange = s.onload = plot;head.appendChild(s);}else{require(['/notebooks/node_modules/plotly-notebook-js/build/plotly.min.js'], function(Plotly){window.Plotly = Plotly;plot();});}</script></div>"
      ]
     },
     "execution_count": 15,
     "metadata": {},
     "output_type": "execute_result"
    }
   ],
   "source": [
    "// credit mining without working\n",
    "\n",
    "next(async()=>{\n",
    "    \n",
    "    await $.sleepAndRecord(\n",
    "        $.time(10,'days'),\n",
    "        $.time(4,'hours')\n",
    "    )\n",
    "    \n",
    "    await $.draw()\n",
    "})"
   ]
  },
  {
   "cell_type": "code",
   "execution_count": 7,
   "id": "8ca497f8-1e0e-48ca-9514-90b7d6011419",
   "metadata": {},
   "outputs": [
    {
     "data": {
      "text/html": [
       "<div class='plotly-plot'><div id='notebook-plot-1634819529452'></div><script>function plot(){Plotly.plot('notebook-plot-1634819529452',[{\"x\":[\"2021-09-21 08:30:27\",\"2021-09-22 20:30:29\",\"2021-09-24 08:30:30\"],\"y\":[0,0,0],\"name\":\"Transfer\",\"mode\":\"markers\"},{\"x\":[\"2021-09-20 01:00:00\"],\"y\":[0],\"name\":\"Period\",\"mode\":\"markers\",\"marker\":{\"symbol\":\"line-ns-open\",\"size\":12,\"color\":\"rgb(0, 0, 0)\"}},{\"x\":[\"2021-09-19 20:29:55\",\"2021-09-20 08:30:26\",\"2021-09-20 08:30:26\",\"2021-09-20 20:30:26\",\"2021-09-20 20:30:26\",\"2021-09-21 08:30:26\",\"2021-09-21 08:30:27\",\"2021-09-21 20:30:28\",\"2021-09-21 20:30:28\",\"2021-09-22 08:30:28\",\"2021-09-22 08:30:28\",\"2021-09-22 20:30:28\",\"2021-09-22 20:30:29\",\"2021-09-23 08:30:29\",\"2021-09-23 08:30:29\",\"2021-09-23 20:30:29\",\"2021-09-23 20:30:29\",\"2021-09-24 08:30:29\",\"2021-09-24 08:30:30\",\"2021-09-24 20:30:30\"],\"y\":[192000000,192000000,192000000,192000000,192000000,192000000,182000000,182000000,182000000,182000000,182000000,182000000,172000000,172000000,172000000,172000000,172000000,172000000,162000000,162000000],\"name\":\"balanceOf\",\"line\":{\"width\":1}}],{});}if(window.Plotly){plot();}else if(!window.require){var head = document.head || document.getElementsByTagName('head')[0];var s = document.createElement('script');s.src = 'https://cdn.plot.ly/plotly-latest.min.js';s.type = 'text/javascript';s.async = false;s.onreadystatechange = s.onload = plot;head.appendChild(s);}else{require(['/notebooks/node_modules/plotly-notebook-js/build/plotly.min.js'], function(Plotly){window.Plotly = Plotly;plot();});}</script></div>"
      ]
     },
     "execution_count": 7,
     "metadata": {},
     "output_type": "execute_result"
    }
   ],
   "source": [
    "// credit mining with twap change\n",
    "\n",
    "next(async()=>{    \n",
    "    await $.resetRecording()\n",
    "    \n",
    "    await $.sleepAndExecute(\n",
    "        $.time(5,'days'),\n",
    "        $.time(12,'hours'),\n",
    "        // make a big swap in uniswapV3 pool to alter quote\n",
    "        [{\n",
    "            run: async()=>{\n",
    "                    await dai.connect(provider).transfer(dai.address, toUnit(10_000_000))\n",
    "            },\n",
    "            every: $.time(1,'days')\n",
    "         }]\n",
    "    )\n",
    "    \n",
    "    await $.draw()\n",
    "})"
   ]
  },
  {
   "cell_type": "code",
   "execution_count": null,
   "id": "717299ea-da96-4457-ac3c-40f9e4558334",
   "metadata": {},
   "outputs": [],
   "source": []
  }
 ],
 "metadata": {
  "kernelspec": {
   "display_name": "Javascript (Node.js)",
   "language": "javascript",
   "name": "javascript"
  },
  "language_info": {
   "file_extension": ".js",
   "mimetype": "application/javascript",
   "name": "javascript",
   "version": "16.10.0"
  }
 },
 "nbformat": 4,
 "nbformat_minor": 5
}
