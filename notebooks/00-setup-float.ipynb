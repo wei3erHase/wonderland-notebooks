{
 "cells": [
  {
   "cell_type": "markdown",
   "id": "8e2491fb-3301-4c68-a3ca-649bb88e4160",
   "metadata": {},
   "source": [
    "### Setup"
   ]
  },
  {
   "cell_type": "code",
   "execution_count": 1,
   "id": "ad598979-d080-43bb-bcc0-4e69e0db17e4",
   "metadata": {
    "tags": []
   },
   "outputs": [],
   "source": [
    "// import dependencies\n",
    "var {smock} = require('@defi-wonderland/smock')\n",
    "\n",
    "var moment = require('moment')\n",
    "var { constants } = require('../utils')\n",
    "var { advanceTimeAndBlock } = require('../utils/evm')\n",
    "var { evm, common, contracts } = require('../utils');\n",
    "var { toUnit } = require('../utils/bn')\n",
    "var { getLatestBlockTimestamp, getBlockTimestamp } = require('../utils/evm')\n",
    "var { next, clear, bnToNumber } = require('../utils/jupyter')\n",
    "var { Notebook } = require('../utils/notebook')\n",
    "var { ethers } = require('hardhat')\n",
    "\n",
    "var $ = new Notebook();\n",
    "\n",
    "clear();\n",
    "\n",
    "// console.log(smocklib.smock)"
   ]
  },
  {
   "cell_type": "code",
   "execution_count": 2,
   "id": "d42a7ee8-0eea-4c47-983e-ddf5a9cc9bf6",
   "metadata": {},
   "outputs": [],
   "source": [
    "// setup tools and contracts\n",
    "\n",
    "next(async () => {\n",
    "    await $.setup(constants.FORK_BLOCK_NUMBER);\n",
    "    \n",
    "    provider = await $.impersonate(constants.RICH_DAI_ADDRESS);\n",
    "    \n",
    "    // contract artifacts\n",
    "    ls = await $.fetch('LongShort', constants.LONG_SHORT_ADDRESS)\n",
    "    synthF3Long = await $.fetch('SyntheticToken', constants.SYNTHETIC_TOKEN_ADDRESS_F3_LONG)\n",
    "    synthF3Short = await $.fetch('SyntheticToken',constants.SYNTHETIC_TOKEN_ADDRESS_F3_SHORT)\n",
    "    ym = await $.fetch('YieldManagerAave', constants.YIELD_MANAGER_ADDRESS)\n",
    "    oracleManager = await $.fetch('OracleManagerFlippening_V0', constants.ORACLE_MANAGER_ADDRESS_F3)\n",
    "    alphaFLT = await $.fetch('AlphaTestFLT',constants.ALPHA_FLT_ADDRESS)\n",
    "    treasury = await $.fetch('TreasuryAlpha',constants.TREASURY_ALPHA_ADDRESS)\n",
    "    \n",
    "    dai = await $.fetch('ERC20', constants.DAI_ADDRESS )\n",
    "    \n",
    "    // fake contracts\n",
    "    oracleManagerFake = await smock.fake('OracleManagerFlippening_V0');\n",
    "    longShortFake = await smock.fake('LongShort');\n",
    "});"
   ]
  },
  {
   "cell_type": "code",
   "execution_count": 37,
   "id": "fde58d26-f971-4270-a56d-02b1a787cd00",
   "metadata": {},
   "outputs": [
    {
     "data": {
      "text/plain": [
       "BigNumber { _hex: '0x29', _isBigNumber: true }"
      ]
     },
     "execution_count": 37,
     "metadata": {},
     "output_type": "execute_result"
    }
   ],
   "source": [
    "//Checking total supply of long F3 \n",
    "synthF3Long.totalSupply()"
   ]
  },
  {
   "cell_type": "code",
   "execution_count": 4,
   "id": "51b3f2e6-cd87-4365-85d5-53a0c1cb1dbd",
   "metadata": {},
   "outputs": [
    {
     "data": {
      "text/plain": [
       "{\n",
       "  hash: '0x9b88dadac9cc7bbfa51f0082a48d9345b8b4d2b1d9c907d249d31369e1ec9705',\n",
       "  type: 0,\n",
       "  accessList: null,\n",
       "  blockHash: '0x77629442b052f4015aa19b2711715bea57d1470dc9fa357897a964db136b57d4',\n",
       "  blockNumber: 20001019,\n",
       "  transactionIndex: 0,\n",
       "  confirmations: 1,\n",
       "  from: '0x06959153B974D0D5fDfd87D561db6d8d4FA0bb0B',\n",
       "  gasPrice: BigNumber { _hex: '0x01dcd65000', _isBigNumber: true },\n",
       "  gasLimit: BigNumber { _hex: '0x01badb18', _isBigNumber: true },\n",
       "  to: '0x8f3Cf7ad23Cd3CaDbD9735AFf958023239c6A063',\n",
       "  value: BigNumber { _hex: '0x00', _isBigNumber: true },\n",
       "  nonce: 3364,\n",
       "  data: '0x095ea7b3000000000000000000000000168a5d1217aecd258b03018d5bf1a1677a07b733000000000000000000000000000000000000000000000000000000003b9aca00',\n",
       "  r: '0x0000000000000000000000000000000000000000000000000000000000000001',\n",
       "  s: '0x0000000000000000000000000000000000000000000000000000000000000002',\n",
       "  v: 27,\n",
       "  creates: null,\n",
       "  chainId: 0,\n",
       "  wait: [Function (anonymous)]\n",
       "}"
      ]
     },
     "execution_count": 4,
     "metadata": {},
     "output_type": "execute_result"
    }
   ],
   "source": [
    "//Approving transaction for the user\n",
    "dai.connect(provider).approve(ls.address,1000000000)"
   ]
  },
  {
   "cell_type": "code",
   "execution_count": 17,
   "id": "2ed16891-f1e2-40ae-9062-7dc0efae60b2",
   "metadata": {},
   "outputs": [
    {
     "data": {
      "text/plain": [
       "{\n",
       "  hash: '0xfb98a0d57a1c70ab0b0c423dd02b7dac33b29d89e1aac0dd2a1bbe0ed004389d',\n",
       "  type: 0,\n",
       "  accessList: null,\n",
       "  blockHash: '0xe46ee216a91eec2e59c366c962627105dcd70a9e87f8b052f2fb4e7fd2e5df55',\n",
       "  blockNumber: 20001028,\n",
       "  transactionIndex: 0,\n",
       "  confirmations: 1,\n",
       "  from: '0xf39Fd6e51aad88F6F4ce6aB8827279cffFb92266',\n",
       "  gasPrice: BigNumber { _hex: '0x01dcd65000', _isBigNumber: true },\n",
       "  gasLimit: BigNumber { _hex: '0x01bada98', _isBigNumber: true },\n",
       "  to: '0x168a5d1217AEcd258b03018d5bF1A1677A07b733',\n",
       "  value: BigNumber { _hex: '0x00', _isBigNumber: true },\n",
       "  nonce: 780,\n",
       "  data: '0x897a078600000000000000000000000006959153b974d0d5fdfd87d561db6d8d4fa0bb0b0000000000000000000000000000000000000000000000000000000000000001',\n",
       "  r: '0xe38dc869eccb7c76852b0efc15ce7bac5d3f91f9ab2b694446debc9b0447ee42',\n",
       "  s: '0x2acdbffe34e8bb6ddb4dc070da69f71800c4fe96a63516babc6182f8514cee97',\n",
       "  v: 62709,\n",
       "  creates: null,\n",
       "  chainId: 31337,\n",
       "  wait: [Function (anonymous)]\n",
       "}"
      ]
     },
     "execution_count": 17,
     "metadata": {},
     "output_type": "execute_result"
    }
   ],
   "source": [
    "//Mint long next price for user in F3 market\n",
    "ls.connect(provider).mintLongNextPrice(synthF3Long.marketIndex(),1000000)"
   ]
  },
  {
   "cell_type": "code",
   "execution_count": 18,
   "id": "6a6859b8-600e-4293-85e8-48a4705d7177",
   "metadata": {},
   "outputs": [],
   "source": [
    "//Forcing an oracle price update for next price execution to go through\n",
    "oracleManagerFake.updatePrice.returns('42')"
   ]
  },
  {
   "cell_type": "code",
   "execution_count": null,
   "id": "942a5938-a14f-4163-921a-55019a7daf9d",
   "metadata": {},
   "outputs": [],
   "source": [
    "//Running next price execution for the user\n",
    "ls.executeOutstandingNextPriceSettlementsUser(constants.RICH_DAI_ADDRESS,1)"
   ]
  },
  {
   "cell_type": "code",
   "execution_count": 16,
   "id": "b0798cfc-1a27-414f-8a48-b5f9341b80b3",
   "metadata": {},
   "outputs": [
    {
     "data": {
      "text/plain": [
       "{\n",
       "  hash: '0x5bc5da792b396a6f7bf884ec02ea06cdf01b8aff0c8865aea704f146dcb04b4d',\n",
       "  type: 0,\n",
       "  accessList: null,\n",
       "  blockHash: '0xec85e9740d48edcb73162221d2af696a4d0378ce29d03a7259c6725f67110244',\n",
       "  blockNumber: 20001027,\n",
       "  transactionIndex: 0,\n",
       "  confirmations: 1,\n",
       "  from: '0x06959153B974D0D5fDfd87D561db6d8d4FA0bb0B',\n",
       "  gasPrice: BigNumber { _hex: '0x01dcd65000', _isBigNumber: true },\n",
       "  gasLimit: BigNumber { _hex: '0x01bad458', _isBigNumber: true },\n",
       "  to: '0x4DF25aBf3Cd7A94B3063Aba8a339bFd25FA72207',\n",
       "  value: BigNumber { _hex: '0x00', _isBigNumber: true },\n",
       "  nonce: 3369,\n",
       "  data: '0x673a7e28',\n",
       "  r: '0x0000000000000000000000000000000000000000000000000000000000000001',\n",
       "  s: '0x0000000000000000000000000000000000000000000000000000000000000002',\n",
       "  v: 27,\n",
       "  creates: null,\n",
       "  chainId: 0,\n",
       "  wait: [Function (anonymous)]\n",
       "}"
      ]
     },
     "execution_count": 16,
     "metadata": {},
     "output_type": "execute_result"
    }
   ],
   "source": [
    "oracleManagerFake.connect(provider).updatePrice()"
   ]
  },
  {
   "cell_type": "code",
   "execution_count": 7,
   "id": "a4178232-ebab-4b5d-909f-21e30df27c40",
   "metadata": {},
   "outputs": [
    {
     "data": {
      "text/plain": [
       "BigNumber { _hex: '0x023d393ebf869096a4', _isBigNumber: true }"
      ]
     },
     "execution_count": 7,
     "metadata": {},
     "output_type": "execute_result"
    }
   ],
   "source": [
    "oracleManager.getLatestPrice()"
   ]
  },
  {
   "cell_type": "code",
   "execution_count": 11,
   "id": "6bc31051-0b60-4cf7-9d16-c7e3c485e3c5",
   "metadata": {},
   "outputs": [
    {
     "data": {
      "text/plain": [
       "{\n",
       "  hash: '0xdbe3d17ab455e4184f4ede3b9f74a0192d2508a5a6bbd0d964538c4224eb205c',\n",
       "  type: 0,\n",
       "  accessList: null,\n",
       "  blockHash: '0xdf729ef1100bf73bf660f5ae817e1842051c28fddd715aa7bae3b192eaaab4bd',\n",
       "  blockNumber: 20001022,\n",
       "  transactionIndex: 0,\n",
       "  confirmations: 1,\n",
       "  from: '0xf39Fd6e51aad88F6F4ce6aB8827279cffFb92266',\n",
       "  gasPrice: BigNumber { _hex: '0x01dcd65000', _isBigNumber: true },\n",
       "  gasLimit: BigNumber { _hex: '0x01bad458', _isBigNumber: true },\n",
       "  to: '0x70a760ACD5503A8D6746BC7F00571F570ae0aD44',\n",
       "  value: BigNumber { _hex: '0x00', _isBigNumber: true },\n",
       "  nonce: 778,\n",
       "  data: '0x673a7e28',\n",
       "  r: '0x1dc64ef708a791304f06249c5b6a71927a31ad6b18648c9e51fde659f16c0eab',\n",
       "  s: '0x042b94778e81812be26b0260018e13e48fdbce3be38e11b9f2e988923c29d745',\n",
       "  v: 62709,\n",
       "  creates: null,\n",
       "  chainId: 31337,\n",
       "  wait: [Function (anonymous)]\n",
       "}"
      ]
     },
     "execution_count": 11,
     "metadata": {},
     "output_type": "execute_result"
    }
   ],
   "source": [
    "oracleManager.updatePrice()"
   ]
  },
  {
   "cell_type": "code",
   "execution_count": 49,
   "id": "fb0f6e68-cbf7-4ddf-adcb-92cc1d688a5f",
   "metadata": {
    "tags": []
   },
   "outputs": [],
   "source": [
    "//Checking total supply of long F3 \n",
    "synthF3Long.totalSupply()"
   ]
  },
  {
   "cell_type": "code",
   "execution_count": 32,
   "id": "661bca56-88ce-49ee-a168-256146da8499",
   "metadata": {},
   "outputs": [
    {
     "data": {
      "text/plain": [
       "BigNumber { _hex: '0x0d1ec18243dc61f96d', _isBigNumber: true }"
      ]
     },
     "execution_count": 32,
     "metadata": {},
     "output_type": "execute_result"
    }
   ],
   "source": [
    "//Checking total supply of alphaFLT\n",
    "alphaFLT.totalSupply()"
   ]
  },
  {
   "cell_type": "code",
   "execution_count": 26,
   "id": "d0792149-4dbb-48b3-9989-d22250ec1741",
   "metadata": {},
   "outputs": [
    {
     "data": {
      "text/plain": [
       "116722.88944970035"
      ]
     },
     "execution_count": 26,
     "metadata": {},
     "output_type": "execute_result"
    }
   ],
   "source": [
    "//Checking market value of long F3\n",
    "ls.marketSideValueInPaymentToken(1,true)\n",
    "0x18b78f7dfa2132fb774a / 10**18"
   ]
  },
  {
   "cell_type": "code",
   "execution_count": 23,
   "id": "ff76d465-d957-4e61-9544-f14663da9def",
   "metadata": {},
   "outputs": [
    {
     "data": {
      "text/plain": [
       "88007.01883890868"
      ]
     },
     "execution_count": 23,
     "metadata": {},
     "output_type": "execute_result"
    }
   ],
   "source": [
    "//Checking market value of short F3\n",
    "ls.marketSideValueInPaymentToken(1,false)\n",
    "0x12a2debba8d1573adcb2 / 10**18"
   ]
  },
  {
   "cell_type": "code",
   "execution_count": 19,
   "id": "bb821785-5e23-443f-a774-cfd43f173456",
   "metadata": {},
   "outputs": [
    {
     "data": {
      "text/plain": [
       "-224.67790446863268"
      ]
     },
     "execution_count": 19,
     "metadata": {},
     "output_type": "execute_result"
    }
   ],
   "source": [
    " (0x12a2def41f9b98800525 - 0x12af0cfc6353d5789fca) / 10**18"
   ]
  },
  {
   "cell_type": "code",
   "execution_count": 50,
   "id": "3ad02908-b6c0-4579-90c9-5cf0f383bf67",
   "metadata": {},
   "outputs": [
    {
     "data": {
      "text/plain": [
       "'0x8f3Cf7ad23Cd3CaDbD9735AFf958023239c6A063'"
      ]
     },
     "execution_count": 50,
     "metadata": {},
     "output_type": "execute_result"
    }
   ],
   "source": [
    "treasury.paymentToken()"
   ]
  },
  {
   "cell_type": "code",
   "execution_count": 14,
   "id": "264faf39-621d-4537-b8b4-1e9e0ba8e6fd",
   "metadata": {},
   "outputs": [
    {
     "data": {
      "text/plain": [
       "BigNumber { _hex: '0x0e45', _isBigNumber: true }"
      ]
     },
     "execution_count": 14,
     "metadata": {},
     "output_type": "execute_result"
    }
   ],
   "source": [
    "ls.marketUpdateIndex(1)"
   ]
  },
  {
   "cell_type": "code",
   "execution_count": 15,
   "id": "2c9d2adb-8e12-4862-ae5b-83da96393835",
   "metadata": {},
   "outputs": [
    {
     "data": {
      "text/plain": [
       "3653"
      ]
     },
     "execution_count": 15,
     "metadata": {},
     "output_type": "execute_result"
    }
   ],
   "source": [
    "0x0e45"
   ]
  },
  {
   "cell_type": "code",
   "execution_count": 24,
   "id": "cc8e8474-ad1d-4ed7-b6d6-8b182dbd3958",
   "metadata": {},
   "outputs": [],
   "source": [
    "longShortFake.marketUpdateIndex.returns(3690)"
   ]
  },
  {
   "cell_type": "code",
   "execution_count": 26,
   "id": "e9c91a5f-37a5-42ab-a32b-330ffa469cb8",
   "metadata": {},
   "outputs": [
    {
     "data": {
      "text/plain": [
       "BigNumber { _hex: '0x0e6a', _isBigNumber: true }"
      ]
     },
     "execution_count": 26,
     "metadata": {},
     "output_type": "execute_result"
    }
   ],
   "source": [
    "longShortFake.marketUpdateIndex(2)"
   ]
  },
  {
   "cell_type": "code",
   "execution_count": 25,
   "id": "e7349102-8ee2-43f3-aeb2-69cbd4dd431d",
   "metadata": {},
   "outputs": [
    {
     "data": {
      "text/plain": [
       "3690"
      ]
     },
     "execution_count": 25,
     "metadata": {},
     "output_type": "execute_result"
    }
   ],
   "source": [
    "0x0e6a"
   ]
  },
  {
   "cell_type": "code",
   "execution_count": null,
   "id": "140a6d17-fea3-4130-9499-82b9118d9903",
   "metadata": {},
   "outputs": [],
   "source": []
  }
 ],
 "metadata": {
  "kernelspec": {
   "display_name": "Javascript (Node.js)",
   "language": "javascript",
   "name": "javascript"
  },
  "language_info": {
   "file_extension": ".js",
   "mimetype": "application/javascript",
   "name": "javascript",
   "version": "16.10.0"
  }
 },
 "nbformat": 4,
 "nbformat_minor": 5
}
