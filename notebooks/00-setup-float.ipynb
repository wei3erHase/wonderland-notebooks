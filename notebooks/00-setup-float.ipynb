{
 "cells": [
  {
   "cell_type": "markdown",
   "id": "8e2491fb-3301-4c68-a3ca-649bb88e4160",
   "metadata": {},
   "source": [
    "### Setup"
   ]
  },
  {
   "cell_type": "code",
   "execution_count": 1,
   "id": "ad598979-d080-43bb-bcc0-4e69e0db17e4",
   "metadata": {
    "tags": []
   },
   "outputs": [],
   "source": [
    "// import dependencies\n",
    "var {smock} = require('@defi-wonderland/smock')\n",
    "\n",
    "var moment = require('moment')\n",
    "var { constants } = require('../utils')\n",
    "var { advanceTimeAndBlock } = require('../utils/evm')\n",
    "var { evm, common, contracts } = require('../utils');\n",
    "var { toUnit } = require('../utils/bn')\n",
    "var { getLatestBlockTimestamp, getBlockTimestamp } = require('../utils/evm')\n",
    "var { next, clear, bnToNumber } = require('../utils/jupyter')\n",
    "var { Notebook } = require('../utils/notebook')\n",
    "var { ethers } = require('hardhat')\n",
    "\n",
    "var $ = new Notebook();\n",
    "\n",
    "clear();\n",
    "\n",
    "// console.log(smocklib.smock)"
   ]
  },
  {
   "cell_type": "code",
   "execution_count": 2,
   "id": "d42a7ee8-0eea-4c47-983e-ddf5a9cc9bf6",
   "metadata": {},
   "outputs": [],
   "source": [
    "// setup tools and contracts\n",
    "\n",
    "next(async () => {\n",
    "    await $.setup(constants.FORK_BLOCK_NUMBER);\n",
    "    \n",
    "    provider = await $.impersonate(constants.RICH_DAI_ADDRESS);\n",
    "    \n",
    "    // contract artifacts\n",
    "    ls = await $.fetch('LongShort', constants.LONG_SHORT_ADDRESS)\n",
    "    synthF3Long = await $.fetch('SyntheticToken', constants.SYNTHETIC_TOKEN_ADDRESS_F3_LONG)\n",
    "    synthF3Short = await $.fetch('SyntheticToken',constants.SYNTHETIC_TOKEN_ADDRESS_F3_SHORT)\n",
    "    ym = await $.fetch('YieldManagerAave', constants.YIELD_MANAGER_ADDRESS)\n",
    "    oracleManager = await $.fetch('OracleManagerFlippening_V0', constants.ORACLE_MANAGER_ADDRESS_F3)\n",
    "    alphaFLT = await $.fetch('AlphaTestFLT',constants.ALPHA_FLT_ADDRESS)\n",
    "    treasury = await $.fetch('TreasuryAlpha',constants.TREASURY_ALPHA_ADDRESS)\n",
    "    \n",
    "    dai = await $.fetch('ERC20', constants.DAI_ADDRESS )\n",
    "    \n",
    "    // fake contracts\n",
    "    oracleManagerFake = await smock.fake('OracleManagerFlippening_V0');\n",
    "    // update the address of the oracle manager to whatever the address of the fake is.\n",
    "    // might have to make myself admin in order to do this.\n",
    "    longShortFake = await smock.fake('LongShort');\n",
    "});"
   ]
  },
  {
   "cell_type": "code",
   "execution_count": 51,
   "id": "6ac9fa31-4a61-488c-8e87-6ddbd2a55f4a",
   "metadata": {},
   "outputs": [],
   "source": [
    "//updating the address of the oracle manager to the fake oracleManager contract\n",
    "next(async()=>{\n",
    "    ls.connect(await $.impersonate('0xcfcCB5e6b3882b7795eb1B1A9f18831A842d4eE0')).updateMarketOracle(1,oracleManagerFake.address)    \n",
    "})"
   ]
  },
  {
   "cell_type": "code",
   "execution_count": 98,
   "id": "fde58d26-f971-4270-a56d-02b1a787cd00",
   "metadata": {},
   "outputs": [
    {
     "data": {
      "text/plain": [
       "BigNumber { _hex: '0x1b78e92b78118e7a5d6b', _isBigNumber: true }"
      ]
     },
     "execution_count": 98,
     "metadata": {},
     "output_type": "execute_result"
    }
   ],
   "source": [
    "//Checking total supply of long F3 \n",
    "synthF3Long.totalSupply()\n",
    "/0x1b78e92b78118e7a5d6b/10**18"
   ]
  },
  {
   "cell_type": "code",
   "execution_count": 77,
   "id": "51b3f2e6-cd87-4365-85d5-53a0c1cb1dbd",
   "metadata": {},
   "outputs": [
    {
     "data": {
      "text/plain": [
       "{\n",
       "  hash: '0x147cd0cecf638c34a5de84246c428d5ba2744b208ff1a3fb2260dfabde2f7292',\n",
       "  type: 0,\n",
       "  accessList: null,\n",
       "  blockHash: '0xc117a8af0ded19985938b9f5fde2079387bcc8caef73db1fc1b5bddc2ce2c531',\n",
       "  blockNumber: 20001045,\n",
       "  transactionIndex: 0,\n",
       "  confirmations: 1,\n",
       "  from: '0x06959153B974D0D5fDfd87D561db6d8d4FA0bb0B',\n",
       "  gasPrice: BigNumber { _hex: '0x01dcd65000', _isBigNumber: true },\n",
       "  gasLimit: BigNumber { _hex: '0x01badb58', _isBigNumber: true },\n",
       "  to: '0x8f3Cf7ad23Cd3CaDbD9735AFf958023239c6A063',\n",
       "  value: BigNumber { _hex: '0x00', _isBigNumber: true },\n",
       "  nonce: 3377,\n",
       "  data: '0x095ea7b3000000000000000000000000168a5d1217aecd258b03018d5bf1a1677a07b7330000000000000000000000000000000000000000000000000000002e90edd000',\n",
       "  r: '0x0000000000000000000000000000000000000000000000000000000000000001',\n",
       "  s: '0x0000000000000000000000000000000000000000000000000000000000000002',\n",
       "  v: 27,\n",
       "  creates: null,\n",
       "  chainId: 0,\n",
       "  wait: [Function (anonymous)]\n",
       "}"
      ]
     },
     "execution_count": 77,
     "metadata": {},
     "output_type": "execute_result"
    }
   ],
   "source": [
    "//Approving transaction for the user\n",
    "dai.connect(provider).approve(ls.address,200000000000)"
   ]
  },
  {
   "cell_type": "code",
   "execution_count": 78,
   "id": "2ed16891-f1e2-40ae-9062-7dc0efae60b2",
   "metadata": {
    "tags": []
   },
   "outputs": [],
   "source": [
    "//Mint long next price for user in F3 market\n",
    "next(async()=>{\n",
    "    ls.connect(provider).mintLongNextPrice(await synthF3Long.marketIndex(),200000000000)           \n",
    "           })\n"
   ]
  },
  {
   "cell_type": "code",
   "execution_count": 80,
   "id": "62199231-f7ad-41b3-8957-4774ea009414",
   "metadata": {},
   "outputs": [
    {
     "data": {
      "text/plain": [
       "6e-7"
      ]
     },
     "execution_count": 80,
     "metadata": {},
     "output_type": "execute_result"
    }
   ],
   "source": [
    "ls.userNextPrice_paymentToken_depositAmount(1,true,constants.RICH_DAI_ADDRESS)\n",
    "\n",
    " 0x8bb2c97000 / 10**18\n",
    "\n",
    "// ls.userNextPrice_currentUpdateIndex(1,constants.RICH_DAI_ADDRESS)"
   ]
  },
  {
   "cell_type": "code",
   "execution_count": 81,
   "id": "c8b7b3f1-1a01-4180-9444-192f3a463faa",
   "metadata": {},
   "outputs": [],
   "source": [
    "next(async()=>{\n",
    "    tx = await ls.updateSystemState(1)\n",
    "    waited = await tx.wait()\n",
    "})"
   ]
  },
  {
   "cell_type": "code",
   "execution_count": 82,
   "id": "f47fba1c-e7b1-4593-9301-121c636e0756",
   "metadata": {},
   "outputs": [
    {
     "data": {
      "text/plain": [
       "{\n",
       "  args: [],\n",
       "  nonce: 1,\n",
       "  target: '0xd7899d769d69b4f79f3653e0326a21065b450d0c'\n",
       "}"
      ]
     },
     "execution_count": 82,
     "metadata": {},
     "output_type": "execute_result"
    }
   ],
   "source": [
    "oracleManagerFake.updatePrice.getCall(1)"
   ]
  },
  {
   "cell_type": "code",
   "execution_count": 83,
   "id": "6a6859b8-600e-4293-85e8-48a4705d7177",
   "metadata": {},
   "outputs": [],
   "source": [
    "//Forcing an oracle price update for next price execution to go through\n",
    "oracleManagerFake.updatePrice.returns('42000000000000000000')"
   ]
  },
  {
   "cell_type": "code",
   "execution_count": 84,
   "id": "f1b80891-4003-4161-a39e-9be2bcd5ba91",
   "metadata": {},
   "outputs": [
    {
     "data": {
      "text/plain": [
       "{\n",
       "  hash: '0x4e3e3f619571860ecfe1a64f4862dc5bdd72d240ac768e2ab9c27a583e9d57df',\n",
       "  type: 0,\n",
       "  accessList: null,\n",
       "  blockHash: '0x6d6f4eaf3084ccd3db9b39ec33e84177025cb6aa64fe4ec89b23a66d0019f4fd',\n",
       "  blockNumber: 20001048,\n",
       "  transactionIndex: 0,\n",
       "  confirmations: 1,\n",
       "  from: '0x06959153B974D0D5fDfd87D561db6d8d4FA0bb0B',\n",
       "  gasPrice: BigNumber { _hex: '0x01dcd65000', _isBigNumber: true },\n",
       "  gasLimit: BigNumber { _hex: '0x01bad458', _isBigNumber: true },\n",
       "  to: '0xD7899D769d69B4f79f3653E0326a21065b450d0c',\n",
       "  value: BigNumber { _hex: '0x00', _isBigNumber: true },\n",
       "  nonce: 3379,\n",
       "  data: '0x673a7e28',\n",
       "  r: '0x0000000000000000000000000000000000000000000000000000000000000001',\n",
       "  s: '0x0000000000000000000000000000000000000000000000000000000000000002',\n",
       "  v: 27,\n",
       "  creates: null,\n",
       "  chainId: 0,\n",
       "  wait: [Function (anonymous)]\n",
       "}"
      ]
     },
     "execution_count": 84,
     "metadata": {},
     "output_type": "execute_result"
    }
   ],
   "source": [
    "oracleManagerFake.connect(provider).updatePrice()"
   ]
  },
  {
   "cell_type": "code",
   "execution_count": 85,
   "id": "942a5938-a14f-4163-921a-55019a7daf9d",
   "metadata": {},
   "outputs": [
    {
     "data": {
      "text/plain": [
       "{\n",
       "  hash: '0xd4f807be698afe97e8e48ddf5072d66abf3dd72284ebb419281d7826e5b38277',\n",
       "  type: 0,\n",
       "  accessList: null,\n",
       "  blockHash: '0x60fa65ff57b925f30bd53adf85e19d635ba74bce9f0c61d92243604914d4591b',\n",
       "  blockNumber: 20001049,\n",
       "  transactionIndex: 0,\n",
       "  confirmations: 1,\n",
       "  from: '0xf39Fd6e51aad88F6F4ce6aB8827279cffFb92266',\n",
       "  gasPrice: BigNumber { _hex: '0x01dcd65000', _isBigNumber: true },\n",
       "  gasLimit: BigNumber { _hex: '0x01bada98', _isBigNumber: true },\n",
       "  to: '0x168a5d1217AEcd258b03018d5bF1A1677A07b733',\n",
       "  value: BigNumber { _hex: '0x00', _isBigNumber: true },\n",
       "  nonce: 789,\n",
       "  data: '0x897a078600000000000000000000000006959153b974d0d5fdfd87d561db6d8d4fa0bb0b0000000000000000000000000000000000000000000000000000000000000001',\n",
       "  r: '0x73fe29a4e92956130d5079264ce5ca1b3f38142f870cabc5a9483cc1391c0098',\n",
       "  s: '0x48f059aeb5ee4a0e27034cc82dfb9c00099503666b83e90ecc743a738a683baf',\n",
       "  v: 62710,\n",
       "  creates: null,\n",
       "  chainId: 31337,\n",
       "  wait: [Function (anonymous)]\n",
       "}"
      ]
     },
     "execution_count": 85,
     "metadata": {},
     "output_type": "execute_result"
    }
   ],
   "source": [
    "//Running next price execution for the user\n",
    "ls.executeOutstandingNextPriceSettlementsUser(constants.RICH_DAI_ADDRESS,1)"
   ]
  },
  {
   "cell_type": "code",
   "execution_count": 86,
   "id": "12f5100c-2e80-4e6d-b2ad-59e7897b9ca5",
   "metadata": {},
   "outputs": [
    {
     "data": {
      "text/plain": [
       "BigNumber { _hex: '0x63b81c6692', _isBigNumber: true }"
      ]
     },
     "execution_count": 86,
     "metadata": {},
     "output_type": "execute_result"
    }
   ],
   "source": [
    "// balance of synthetic tokens for the user\n",
    "synthF3Long.balanceOf(constants.RICH_DAI_ADDRESS)\n",
    "\n",
    "// 0x63b81c6692 /10**18"
   ]
  },
  {
   "cell_type": "code",
   "execution_count": 43,
   "id": "b0798cfc-1a27-414f-8a48-b5f9341b80b3",
   "metadata": {},
   "outputs": [
    {
     "data": {
      "text/plain": [
       "{\n",
       "  hash: '0x8239a9c5927f12952f6b71832ffef8044027a917d1b30499df89e5306d283f3a',\n",
       "  type: 0,\n",
       "  accessList: null,\n",
       "  blockHash: '0x1bab73391541b7a391c74cfe88ea5497f16e7dbf6c82fe05eaaccb5284826e93',\n",
       "  blockNumber: 20001031,\n",
       "  transactionIndex: 0,\n",
       "  confirmations: 1,\n",
       "  from: '0x06959153B974D0D5fDfd87D561db6d8d4FA0bb0B',\n",
       "  gasPrice: BigNumber { _hex: '0x01dcd65000', _isBigNumber: true },\n",
       "  gasLimit: BigNumber { _hex: '0x01bad458', _isBigNumber: true },\n",
       "  to: '0x9B354Ae2bB585CAceF38f6CF7a492e31860092C5',\n",
       "  value: BigNumber { _hex: '0x00', _isBigNumber: true },\n",
       "  nonce: 3372,\n",
       "  data: '0x673a7e28',\n",
       "  r: '0x0000000000000000000000000000000000000000000000000000000000000001',\n",
       "  s: '0x0000000000000000000000000000000000000000000000000000000000000002',\n",
       "  v: 27,\n",
       "  creates: null,\n",
       "  chainId: 0,\n",
       "  wait: [Function (anonymous)]\n",
       "}"
      ]
     },
     "execution_count": 43,
     "metadata": {},
     "output_type": "execute_result"
    }
   ],
   "source": [
    "oracleManagerFake.connect(provider).updatePrice()"
   ]
  },
  {
   "cell_type": "code",
   "execution_count": 15,
   "id": "a4178232-ebab-4b5d-909f-21e30df27c40",
   "metadata": {},
   "outputs": [
    {
     "data": {
      "text/plain": [
       "41.30511444972252"
      ]
     },
     "execution_count": 15,
     "metadata": {},
     "output_type": "execute_result"
    }
   ],
   "source": [
    "oracleManager.getLatestPrice()\n",
    "\n",
    "0x023d393ebf869096a4 / 10**18\n",
    "\n",
    "// oracleManagerFake.getLatestPrice()"
   ]
  },
  {
   "cell_type": "code",
   "execution_count": 11,
   "id": "6bc31051-0b60-4cf7-9d16-c7e3c485e3c5",
   "metadata": {},
   "outputs": [
    {
     "data": {
      "text/plain": [
       "{\n",
       "  hash: '0xdbe3d17ab455e4184f4ede3b9f74a0192d2508a5a6bbd0d964538c4224eb205c',\n",
       "  type: 0,\n",
       "  accessList: null,\n",
       "  blockHash: '0xdf729ef1100bf73bf660f5ae817e1842051c28fddd715aa7bae3b192eaaab4bd',\n",
       "  blockNumber: 20001022,\n",
       "  transactionIndex: 0,\n",
       "  confirmations: 1,\n",
       "  from: '0xf39Fd6e51aad88F6F4ce6aB8827279cffFb92266',\n",
       "  gasPrice: BigNumber { _hex: '0x01dcd65000', _isBigNumber: true },\n",
       "  gasLimit: BigNumber { _hex: '0x01bad458', _isBigNumber: true },\n",
       "  to: '0x70a760ACD5503A8D6746BC7F00571F570ae0aD44',\n",
       "  value: BigNumber { _hex: '0x00', _isBigNumber: true },\n",
       "  nonce: 778,\n",
       "  data: '0x673a7e28',\n",
       "  r: '0x1dc64ef708a791304f06249c5b6a71927a31ad6b18648c9e51fde659f16c0eab',\n",
       "  s: '0x042b94778e81812be26b0260018e13e48fdbce3be38e11b9f2e988923c29d745',\n",
       "  v: 62709,\n",
       "  creates: null,\n",
       "  chainId: 31337,\n",
       "  wait: [Function (anonymous)]\n",
       "}"
      ]
     },
     "execution_count": 11,
     "metadata": {},
     "output_type": "execute_result"
    }
   ],
   "source": [
    "oracleManager.updatePrice()"
   ]
  },
  {
   "cell_type": "code",
   "execution_count": 70,
   "id": "fb0f6e68-cbf7-4ddf-adcb-92cc1d688a5f",
   "metadata": {
    "tags": []
   },
   "outputs": [
    {
     "data": {
      "text/plain": [
       "BigNumber { _hex: '0x1b78e92b78118e7a5d6b', _isBigNumber: true }"
      ]
     },
     "execution_count": 70,
     "metadata": {},
     "output_type": "execute_result"
    }
   ],
   "source": [
    "//Checking total supply of long F3 \n",
    "synthF3Long.totalSupply()"
   ]
  },
  {
   "cell_type": "code",
   "execution_count": 71,
   "id": "661bca56-88ce-49ee-a168-256146da8499",
   "metadata": {},
   "outputs": [
    {
     "data": {
      "text/plain": [
       "BigNumber { _hex: '0x0d1ec18243dc61f96d', _isBigNumber: true }"
      ]
     },
     "execution_count": 71,
     "metadata": {},
     "output_type": "execute_result"
    }
   ],
   "source": [
    "//Checking total supply of alphaFLT\n",
    "alphaFLT.totalSupply()"
   ]
  },
  {
   "cell_type": "code",
   "execution_count": 91,
   "id": "d0792149-4dbb-48b3-9989-d22250ec1741",
   "metadata": {},
   "outputs": [
    {
     "data": {
      "text/plain": [
       "1.1672288944970034e+23"
      ]
     },
     "execution_count": 91,
     "metadata": {},
     "output_type": "execute_result"
    }
   ],
   "source": [
    "//Checking market value of long F3\n",
    "ls.marketSideValueInPaymentToken(1,true)"
   ]
  },
  {
   "cell_type": "code",
   "execution_count": 92,
   "id": "6a88a5be-187b-4649-8235-f374bf6b9415",
   "metadata": {},
   "outputs": [
    {
     "data": {
      "text/plain": [
       "-4441.8491606092775"
      ]
     },
     "execution_count": 92,
     "metadata": {},
     "output_type": "execute_result"
    }
   ],
   "source": [
    "(0x18b78f7dfa2132fb774a - 0x19a85a883fc741ab8afc) / 10**18"
   ]
  },
  {
   "cell_type": "code",
   "execution_count": 96,
   "id": "ff76d465-d957-4e61-9544-f14663da9def",
   "metadata": {},
   "outputs": [
    {
     "data": {
      "text/plain": [
       "88007.01883890868"
      ]
     },
     "execution_count": 96,
     "metadata": {},
     "output_type": "execute_result"
    }
   ],
   "source": [
    "//Checking market value of short F3\n",
    "ls.marketSideValueInPaymentToken(1,false)\n",
    "0x12a2debba8d1573adcb2 / 10**18"
   ]
  },
  {
   "cell_type": "code",
   "execution_count": 19,
   "id": "bb821785-5e23-443f-a774-cfd43f173456",
   "metadata": {},
   "outputs": [
    {
     "data": {
      "text/plain": [
       "-224.67790446863268"
      ]
     },
     "execution_count": 19,
     "metadata": {},
     "output_type": "execute_result"
    }
   ],
   "source": [
    " (0x12a2def41f9b98800525 - 0x12af0cfc6353d5789fca) / 10**18"
   ]
  },
  {
   "cell_type": "code",
   "execution_count": 50,
   "id": "3ad02908-b6c0-4579-90c9-5cf0f383bf67",
   "metadata": {},
   "outputs": [
    {
     "data": {
      "text/plain": [
       "'0x8f3Cf7ad23Cd3CaDbD9735AFf958023239c6A063'"
      ]
     },
     "execution_count": 50,
     "metadata": {},
     "output_type": "execute_result"
    }
   ],
   "source": [
    "treasury.paymentToken()"
   ]
  },
  {
   "cell_type": "code",
   "execution_count": 24,
   "id": "cc8e8474-ad1d-4ed7-b6d6-8b182dbd3958",
   "metadata": {},
   "outputs": [],
   "source": [
    "longShortFake.marketUpdateIndex.returns(3690)"
   ]
  },
  {
   "cell_type": "code",
   "execution_count": 26,
   "id": "e9c91a5f-37a5-42ab-a32b-330ffa469cb8",
   "metadata": {},
   "outputs": [
    {
     "data": {
      "text/plain": [
       "BigNumber { _hex: '0x0e6a', _isBigNumber: true }"
      ]
     },
     "execution_count": 26,
     "metadata": {},
     "output_type": "execute_result"
    }
   ],
   "source": [
    "longShortFake.marketUpdateIndex(2)"
   ]
  }
 ],
 "metadata": {
  "kernelspec": {
   "display_name": "Javascript (Node.js)",
   "language": "javascript",
   "name": "javascript"
  },
  "language_info": {
   "file_extension": ".js",
   "mimetype": "application/javascript",
   "name": "javascript",
   "version": "16.10.0"
  }
 },
 "nbformat": 4,
 "nbformat_minor": 5
}
